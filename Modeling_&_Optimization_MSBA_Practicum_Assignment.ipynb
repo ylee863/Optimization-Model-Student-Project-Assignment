{
  "nbformat": 4,
  "nbformat_minor": 0,
  "metadata": {
    "colab": {
      "provenance": []
    },
    "kernelspec": {
      "name": "python3",
      "display_name": "Python 3"
    },
    "language_info": {
      "name": "python"
    }
  },
  "cells": [
    {
      "cell_type": "markdown",
      "source": [
        "# Optimization Model for MSBA Student Practicum Assignment\n",
        "\n",
        "Built by Younjoo Lee with Co-pilot ChatGPT"
      ],
      "metadata": {
        "id": "aNpR1Ta5VX7N"
      }
    },
    {
      "cell_type": "markdown",
      "source": [
        "## Set Up"
      ],
      "metadata": {
        "id": "f6nNUsvmsg56"
      }
    },
    {
      "cell_type": "code",
      "source": [
        "%%capture\n",
        "import sys\n",
        "import os\n",
        "\n",
        "if 'google.colab' in sys.modules:\n",
        "    !pip install idaes-pse --pre\n",
        "    !idaes get-extensions --to ./bin\n",
        "    os.environ['PATH'] += ':bin'\n",
        "\n",
        "from pyomo.environ import *"
      ],
      "metadata": {
        "id": "6gDKuzdrmNVg"
      },
      "execution_count": null,
      "outputs": []
    },
    {
      "cell_type": "code",
      "source": [
        "import pandas as pd\n",
        "import random"
      ],
      "metadata": {
        "id": "6pdZM0m4mO5F"
      },
      "execution_count": null,
      "outputs": []
    },
    {
      "cell_type": "markdown",
      "source": [
        "## Model Building\n",
        "I used ChatGPT to create a base model and help me build a foundation.\n",
        "[Here's the link to the prompts.](https://chat.openai.com/share/59834fa0-7715-4270-adbd-a660ee1d53c2). However, it is critical to understand what the model is doing; hence, I've written comments and provided text of my understanding for each line of code.\n"
      ],
      "metadata": {
        "id": "iSLUxTM5sjd8"
      }
    },
    {
      "cell_type": "code",
      "source": [
        "# Set random seed for reproducibility - I don't want the random numbers to change each time I run the code.\n",
        "# 42 was a random number I chose\n",
        "random.seed(42)"
      ],
      "metadata": {
        "id": "pp0Hvo13VIqr"
      },
      "execution_count": null,
      "outputs": []
    },
    {
      "cell_type": "markdown",
      "source": [
        "### Customizable Inputs\n",
        "Users can change the number of students, projects, industries, team size, and top industries which is the \"each student must get their top _ industry choice.\""
      ],
      "metadata": {
        "id": "ZlJ7jHMwVRO-"
      }
    },
    {
      "cell_type": "code",
      "source": [
        "# Number of students, projects, and industries\n",
        "num_students = 110\n",
        "num_projects = 18\n",
        "num_industries = 12\n",
        "team_size = 7\n",
        "top_industries_count = 5"
      ],
      "metadata": {
        "id": "Y1VIFqaIVPje"
      },
      "execution_count": null,
      "outputs": []
    },
    {
      "cell_type": "markdown",
      "source": [
        "I am working with random number rankings for each 110 student; however, users can input a list of the industry rankings for each student as well. The code below generates a list of student rankings which are, again, random number generations from 1 - 12."
      ],
      "metadata": {
        "id": "mGyoFmLSWOmu"
      }
    },
    {
      "cell_type": "code",
      "source": [
        "# Generate random industry rankings for each student\n",
        "student_rankings = {i: random.sample(range(1, num_industries + 1), num_industries) for i in range(1, num_students + 1)}\n",
        "\n",
        "# Convert rankings to list format\n",
        "student_rankings_list = {i: [student_rankings[i][k-1] for k in range(1, num_industries + 1)] for i in range(1, num_students + 1)}"
      ],
      "metadata": {
        "id": "XYTHWlUDWLfx"
      },
      "execution_count": null,
      "outputs": []
    },
    {
      "cell_type": "markdown",
      "source": [
        "### Create Model"
      ],
      "metadata": {
        "id": "vQ_PMk8kXEtu"
      }
    },
    {
      "cell_type": "code",
      "source": [
        "# Create a concrete model\n",
        "model = ConcreteModel()"
      ],
      "metadata": {
        "id": "4ozRDXo3XHrE"
      },
      "execution_count": null,
      "outputs": []
    },
    {
      "cell_type": "markdown",
      "source": [
        "The binary decision or \"yes/no\" variables include the projects 1-18 and the industries 1-12."
      ],
      "metadata": {
        "id": "7ZQeISj6XSXS"
      }
    },
    {
      "cell_type": "code",
      "source": [
        "# Define binary decision variables\n",
        "model.x = Var(range(1, num_students + 1), range(1, num_projects + 1), range(1, num_industries + 1), within=Binary)\n",
        "model.d = Var(range(1, num_industries + 1), within=NonNegativeReals)"
      ],
      "metadata": {
        "id": "lH2QQeqKXJIi"
      },
      "execution_count": null,
      "outputs": []
    },
    {
      "cell_type": "markdown",
      "source": [
        "This line of code is creating a variable called \"abs_diff\" which measures the absolute differences between the rankings that students prefer and the projects they are actually assigned to."
      ],
      "metadata": {
        "id": "legmQypAiKyt"
      }
    },
    {
      "cell_type": "code",
      "source": [
        "# Define auxiliary variables for absolute differences\n",
        "model.abs_diff = Var(range(1, num_students + 1), within=NonNegativeReals)"
      ],
      "metadata": {
        "id": "RTe8Lr9SjG1t"
      },
      "execution_count": null,
      "outputs": []
    },
    {
      "cell_type": "markdown",
      "source": [
        "We are defining the objective which is to minimize the difference between the absolute differences in student preference in ranking and their actual assignment."
      ],
      "metadata": {
        "id": "YfInJN9ui2xj"
      }
    },
    {
      "cell_type": "code",
      "source": [
        "# Define objective function to minimize the absolute differences\n",
        "model.obj = Objective(expr=sum(model.abs_diff[k] for k in range(1, num_industries + 1)), sense=minimize)"
      ],
      "metadata": {
        "id": "K3w5ayOFiuh_"
      },
      "execution_count": null,
      "outputs": []
    },
    {
      "cell_type": "markdown",
      "source": [
        "Constraints:\n",
        "\n",
        "*   Each student must be assigned to 1 project in 1 industry\n",
        "*   There must be up to <= 7 students per project\n",
        "*   Each student must be assigned to one of their top 5 industry choices\n",
        "*   Calculating the absolute differences between the actual number of students assigned to a project ina specific industry and the desired team size."
      ],
      "metadata": {
        "id": "fgjPl-xDkkmi"
      }
    },
    {
      "cell_type": "code",
      "source": [
        "# Define constraints, every student must be 1 project in 1 industry\n",
        "model.assignment_constraint = ConstraintList()\n",
        "for i in range(1, num_students + 1):\n",
        "    model.assignment_constraint.add(sum(model.x[i, j, k] for j in range(1, num_projects + 1) for k in range(1, num_industries + 1)) == 1)\n",
        "\n",
        "# Define constraints for absolute differences\n",
        "model.abs_diff_constraint = ConstraintList()\n",
        "for k in range(1, num_industries + 1):\n",
        "    model.abs_diff_constraint.add(model.abs_diff[k] == sum(model.x[i, j, k] for i in range(1, num_students + 1) for j in range(1, num_projects + 1)) - team_size)\n",
        "\n",
        "# Constraint to ensure each student is assigned to one of their top 5 industries\n",
        "model.top_industries_constraint = ConstraintList()\n",
        "for i in range(1, num_students + 1):\n",
        "    top_industries = sorted(student_rankings[i][:top_industries_count])\n",
        "    model.top_industries_constraint.add(sum(model.x[i, j, k] for j in range(1, num_projects + 1) for k in top_industries) >= 1)\n",
        "\n",
        "# Constraint to limit each project to a maximum of 7 students\n",
        "model.project_limit_constraint = ConstraintList()\n",
        "for j in range(1, num_projects + 1):\n",
        "    model.project_limit_constraint.add(sum(model.x[i, j, k] for i in range(1, num_students + 1) for k in range(1, num_industries + 1)) <= team_size)"
      ],
      "metadata": {
        "id": "IxAwsqcxlwc_"
      },
      "execution_count": null,
      "outputs": []
    },
    {
      "cell_type": "markdown",
      "source": [
        "Solve the optimization problem automatically through programs."
      ],
      "metadata": {
        "id": "Wh3w4SB4l2HA"
      }
    },
    {
      "cell_type": "code",
      "source": [
        "# Solve the optimization problem\n",
        "solver = SolverFactory('cbc')\n",
        "solver.solve(model)"
      ],
      "metadata": {
        "colab": {
          "base_uri": "https://localhost:8080/"
        },
        "id": "EjH8MPKVl0Px",
        "outputId": "1b1dfd6a-f95a-4479-ac19-fad1105bec8c"
      },
      "execution_count": null,
      "outputs": [
        {
          "output_type": "execute_result",
          "data": {
            "text/plain": [
              "{'Problem': [{'Name': 'unknown', 'Lower bound': 26.0, 'Upper bound': 26.0, 'Number of objectives': 1, 'Number of constraints': 250, 'Number of variables': 23772, 'Number of binary variables': 23760, 'Number of integer variables': 23760, 'Number of nonzeros': 12, 'Sense': 'minimize'}], 'Solver': [{'Status': 'ok', 'User time': -1.0, 'System time': 2.42, 'Wallclock time': 2.77, 'Termination condition': 'optimal', 'Termination message': 'Model was solved to optimality (subject to tolerances), and an optimal solution is available.', 'Statistics': {'Branch and bound': {'Number of bounded subproblems': 0, 'Number of created subproblems': 0}, 'Black box': {'Number of iterations': 0}}, 'Error rc': 0, 'Time': 2.8639354705810547}], 'Solution': [OrderedDict([('number of solutions', 0), ('number of solutions displayed', 0)])]}"
            ]
          },
          "metadata": {},
          "execution_count": 11
        }
      ]
    },
    {
      "cell_type": "markdown",
      "source": [
        "### Model Outcome/Output\n",
        "\n"
      ],
      "metadata": {
        "id": "SkdhP-hzl7Jn"
      }
    },
    {
      "cell_type": "code",
      "source": [
        "# Display the results\n",
        "for i in range(1, num_students + 1):\n",
        "    for j in range(1, num_projects + 1):\n",
        "        for k in range(1, num_industries + 1):\n",
        "            if value(model.x[i, j, k]) > 0.5:\n",
        "                print(f\"Student {i} is assigned to Project {j} in Industry {k} (Ranking: {student_rankings_list[i]})\")\n",
        "\n",
        "# Display the optimal objective value (minimized absolute differences)\n",
        "print(\"Optimal objective value:\", model.obj())\n",
        "\n",
        "# Display the number of students in each project\n",
        "project_sizes = {j: sum(sum(value(model.x[i, j, k]) for k in range(1, num_industries + 1)) for i in range(1, num_students + 1)) for j in range(1, num_projects + 1)}\n",
        "\n",
        "print(\"\\nNumber of students in each project:\")\n",
        "for j, size in project_sizes.items():\n",
        "    print(f\"Project {j}: {size} students\")\n"
      ],
      "metadata": {
        "colab": {
          "base_uri": "https://localhost:8080/"
        },
        "id": "tFjtYsE0m2Yt",
        "outputId": "47317299-3010-425a-b2c1-f411786cd1d9"
      },
      "execution_count": null,
      "outputs": [
        {
          "output_type": "stream",
          "name": "stdout",
          "text": [
            "Student 1 is assigned to Project 2 in Industry 1 (Ranking: [11, 2, 1, 5, 4, 12, 7, 10, 9, 3, 6, 8])\n",
            "Student 2 is assigned to Project 3 in Industry 10 (Ranking: [1, 2, 4, 10, 12, 5, 11, 7, 9, 8, 6, 3])\n",
            "Student 3 is assigned to Project 15 in Industry 1 (Ranking: [1, 3, 7, 6, 5, 2, 10, 11, 12, 4, 9, 8])\n",
            "Student 4 is assigned to Project 16 in Industry 12 (Ranking: [6, 12, 10, 5, 1, 11, 4, 9, 8, 2, 7, 3])\n",
            "Student 5 is assigned to Project 10 in Industry 11 (Ranking: [11, 10, 6, 4, 2, 1, 12, 8, 3, 7, 9, 5])\n",
            "Student 6 is assigned to Project 4 in Industry 3 (Ranking: [7, 5, 8, 6, 3, 10, 12, 2, 9, 4, 1, 11])\n",
            "Student 7 is assigned to Project 8 in Industry 8 (Ranking: [9, 4, 3, 8, 7, 10, 6, 5, 2, 12, 11, 1])\n",
            "Student 8 is assigned to Project 7 in Industry 7 (Ranking: [4, 1, 6, 7, 5, 11, 2, 8, 3, 9, 10, 12])\n",
            "Student 9 is assigned to Project 13 in Industry 11 (Ranking: [11, 8, 3, 5, 10, 2, 6, 9, 12, 4, 7, 1])\n",
            "Student 10 is assigned to Project 9 in Industry 9 (Ranking: [6, 4, 3, 9, 8, 1, 7, 12, 2, 10, 5, 11])\n",
            "Student 11 is assigned to Project 5 in Industry 2 (Ranking: [10, 2, 7, 12, 8, 5, 3, 9, 1, 6, 4, 11])\n",
            "Student 12 is assigned to Project 5 in Industry 6 (Ranking: [11, 6, 2, 5, 7, 10, 4, 1, 3, 12, 9, 8])\n",
            "Student 13 is assigned to Project 15 in Industry 5 (Ranking: [11, 5, 9, 4, 3, 8, 2, 12, 1, 7, 6, 10])\n",
            "Student 14 is assigned to Project 4 in Industry 1 (Ranking: [1, 2, 6, 5, 4, 12, 11, 9, 7, 8, 10, 3])\n",
            "Student 15 is assigned to Project 3 in Industry 8 (Ranking: [9, 3, 11, 8, 10, 12, 5, 6, 4, 1, 7, 2])\n",
            "Student 16 is assigned to Project 18 in Industry 11 (Ranking: [7, 11, 6, 8, 9, 1, 2, 10, 12, 5, 4, 3])\n",
            "Student 17 is assigned to Project 16 in Industry 12 (Ranking: [10, 4, 1, 2, 12, 9, 8, 6, 3, 5, 11, 7])\n",
            "Student 18 is assigned to Project 1 in Industry 3 (Ranking: [11, 8, 4, 9, 3, 6, 5, 7, 10, 1, 2, 12])\n",
            "Student 19 is assigned to Project 2 in Industry 11 (Ranking: [4, 2, 11, 7, 6, 12, 9, 8, 1, 3, 5, 10])\n",
            "Student 20 is assigned to Project 10 in Industry 4 (Ranking: [7, 6, 2, 4, 9, 10, 5, 8, 12, 11, 1, 3])\n",
            "Student 21 is assigned to Project 6 in Industry 12 (Ranking: [8, 4, 2, 12, 10, 1, 6, 5, 7, 11, 3, 9])\n",
            "Student 22 is assigned to Project 5 in Industry 12 (Ranking: [7, 8, 11, 4, 12, 1, 2, 9, 10, 6, 3, 5])\n",
            "Student 23 is assigned to Project 7 in Industry 5 (Ranking: [5, 7, 9, 8, 3, 2, 10, 11, 1, 6, 4, 12])\n",
            "Student 24 is assigned to Project 9 in Industry 1 (Ranking: [1, 12, 10, 8, 3, 11, 5, 7, 2, 6, 9, 4])\n",
            "Student 25 is assigned to Project 14 in Industry 7 (Ranking: [7, 2, 10, 4, 1, 5, 8, 9, 3, 11, 6, 12])\n",
            "Student 26 is assigned to Project 17 in Industry 5 (Ranking: [4, 5, 7, 3, 11, 12, 9, 1, 8, 2, 10, 6])\n",
            "Student 27 is assigned to Project 6 in Industry 9 (Ranking: [9, 4, 12, 5, 3, 8, 1, 2, 7, 10, 6, 11])\n",
            "Student 28 is assigned to Project 7 in Industry 9 (Ranking: [9, 5, 10, 12, 1, 6, 11, 3, 8, 4, 2, 7])\n",
            "Student 29 is assigned to Project 12 in Industry 5 (Ranking: [2, 9, 3, 5, 11, 8, 12, 10, 6, 7, 4, 1])\n",
            "Student 30 is assigned to Project 17 in Industry 5 (Ranking: [5, 1, 2, 7, 12, 11, 9, 3, 10, 8, 4, 6])\n",
            "Student 31 is assigned to Project 3 in Industry 1 (Ranking: [12, 8, 9, 7, 1, 11, 10, 2, 6, 5, 4, 3])\n",
            "Student 32 is assigned to Project 4 in Industry 1 (Ranking: [3, 1, 5, 6, 11, 12, 2, 9, 8, 10, 7, 4])\n",
            "Student 33 is assigned to Project 12 in Industry 11 (Ranking: [4, 3, 11, 7, 1, 2, 6, 10, 12, 5, 8, 9])\n",
            "Student 34 is assigned to Project 8 in Industry 2 (Ranking: [3, 2, 7, 1, 8, 11, 10, 4, 12, 6, 9, 5])\n",
            "Student 35 is assigned to Project 12 in Industry 6 (Ranking: [1, 11, 4, 7, 6, 3, 12, 9, 5, 10, 2, 8])\n",
            "Student 36 is assigned to Project 5 in Industry 2 (Ranking: [1, 2, 5, 3, 10, 12, 7, 8, 4, 11, 9, 6])\n",
            "Student 37 is assigned to Project 10 in Industry 9 (Ranking: [10, 9, 2, 7, 4, 3, 1, 8, 6, 11, 5, 12])\n",
            "Student 38 is assigned to Project 8 in Industry 2 (Ranking: [7, 2, 6, 10, 11, 9, 3, 5, 12, 4, 8, 1])\n",
            "Student 39 is assigned to Project 12 in Industry 3 (Ranking: [7, 5, 9, 3, 4, 8, 6, 12, 2, 10, 11, 1])\n",
            "Student 40 is assigned to Project 16 in Industry 5 (Ranking: [9, 1, 5, 10, 4, 8, 12, 6, 3, 2, 7, 11])\n",
            "Student 41 is assigned to Project 8 in Industry 11 (Ranking: [11, 4, 9, 8, 3, 6, 1, 10, 5, 7, 12, 2])\n",
            "Student 42 is assigned to Project 2 in Industry 9 (Ranking: [4, 12, 3, 1, 9, 2, 11, 5, 8, 7, 10, 6])\n",
            "Student 43 is assigned to Project 4 in Industry 7 (Ranking: [12, 7, 8, 11, 4, 2, 6, 1, 5, 9, 10, 3])\n",
            "Student 44 is assigned to Project 9 in Industry 8 (Ranking: [12, 9, 8, 1, 4, 7, 11, 10, 2, 5, 3, 6])\n",
            "Student 45 is assigned to Project 16 in Industry 10 (Ranking: [10, 9, 7, 11, 8, 2, 6, 4, 5, 12, 1, 3])\n",
            "Student 46 is assigned to Project 6 in Industry 4 (Ranking: [9, 8, 4, 5, 11, 1, 6, 3, 2, 10, 12, 7])\n",
            "Student 47 is assigned to Project 11 in Industry 2 (Ranking: [9, 2, 3, 10, 4, 8, 6, 11, 5, 1, 7, 12])\n",
            "Student 48 is assigned to Project 1 in Industry 1 (Ranking: [6, 9, 8, 7, 1, 2, 4, 12, 10, 3, 11, 5])\n",
            "Student 49 is assigned to Project 16 in Industry 6 (Ranking: [1, 6, 5, 7, 9, 10, 11, 8, 2, 4, 12, 3])\n",
            "Student 50 is assigned to Project 6 in Industry 1 (Ranking: [7, 8, 1, 12, 6, 11, 9, 4, 2, 5, 10, 3])\n",
            "Student 51 is assigned to Project 12 in Industry 1 (Ranking: [7, 10, 11, 1, 2, 6, 4, 8, 12, 9, 3, 5])\n",
            "Student 52 is assigned to Project 14 in Industry 4 (Ranking: [7, 6, 4, 8, 11, 3, 10, 12, 9, 2, 1, 5])\n",
            "Student 53 is assigned to Project 2 in Industry 9 (Ranking: [1, 9, 12, 6, 4, 11, 10, 7, 5, 8, 3, 2])\n",
            "Student 54 is assigned to Project 8 in Industry 4 (Ranking: [10, 3, 4, 11, 8, 6, 1, 5, 2, 12, 9, 7])\n",
            "Student 55 is assigned to Project 13 in Industry 2 (Ranking: [3, 10, 11, 2, 12, 8, 1, 5, 6, 9, 7, 4])\n",
            "Student 56 is assigned to Project 16 in Industry 4 (Ranking: [12, 4, 2, 11, 10, 6, 3, 5, 1, 7, 9, 8])\n",
            "Student 57 is assigned to Project 7 in Industry 9 (Ranking: [9, 7, 6, 2, 10, 1, 4, 8, 11, 12, 3, 5])\n",
            "Student 58 is assigned to Project 6 in Industry 3 (Ranking: [12, 3, 7, 11, 5, 8, 10, 4, 6, 2, 9, 1])\n",
            "Student 59 is assigned to Project 10 in Industry 8 (Ranking: [4, 2, 5, 8, 12, 7, 9, 10, 6, 11, 1, 3])\n",
            "Student 60 is assigned to Project 14 in Industry 8 (Ranking: [6, 3, 8, 4, 12, 7, 11, 10, 5, 9, 2, 1])\n",
            "Student 61 is assigned to Project 7 in Industry 9 (Ranking: [9, 4, 2, 11, 7, 12, 5, 10, 8, 3, 6, 1])\n",
            "Student 62 is assigned to Project 3 in Industry 1 (Ranking: [1, 2, 5, 4, 7, 6, 11, 3, 10, 8, 9, 12])\n",
            "Student 63 is assigned to Project 11 in Industry 6 (Ranking: [12, 9, 6, 10, 8, 3, 7, 11, 2, 1, 5, 4])\n",
            "Student 64 is assigned to Project 9 in Industry 2 (Ranking: [2, 9, 3, 4, 11, 6, 8, 10, 5, 1, 7, 12])\n",
            "Student 65 is assigned to Project 5 in Industry 6 (Ranking: [4, 6, 3, 5, 1, 11, 9, 2, 10, 8, 12, 7])\n",
            "Student 66 is assigned to Project 11 in Industry 1 (Ranking: [12, 3, 8, 2, 1, 5, 11, 4, 7, 9, 6, 10])\n",
            "Student 67 is assigned to Project 14 in Industry 8 (Ranking: [1, 5, 8, 2, 9, 4, 7, 12, 11, 6, 3, 10])\n",
            "Student 68 is assigned to Project 5 in Industry 7 (Ranking: [2, 4, 12, 9, 7, 5, 8, 6, 10, 3, 11, 1])\n",
            "Student 69 is assigned to Project 12 in Industry 10 (Ranking: [8, 5, 10, 7, 11, 12, 9, 1, 6, 4, 3, 2])\n",
            "Student 70 is assigned to Project 15 in Industry 10 (Ranking: [11, 2, 3, 4, 10, 5, 1, 12, 6, 7, 8, 9])\n",
            "Student 71 is assigned to Project 6 in Industry 9 (Ranking: [5, 1, 4, 12, 9, 6, 10, 11, 2, 7, 8, 3])\n",
            "Student 72 is assigned to Project 3 in Industry 3 (Ranking: [2, 9, 4, 3, 5, 7, 12, 1, 8, 10, 6, 11])\n",
            "Student 73 is assigned to Project 15 in Industry 12 (Ranking: [8, 2, 12, 5, 7, 3, 9, 6, 4, 11, 1, 10])\n",
            "Student 74 is assigned to Project 13 in Industry 6 (Ranking: [7, 6, 10, 5, 1, 8, 2, 9, 12, 3, 11, 4])\n",
            "Student 75 is assigned to Project 4 in Industry 11 (Ranking: [3, 8, 9, 11, 5, 2, 10, 4, 6, 1, 7, 12])\n",
            "Student 76 is assigned to Project 16 in Industry 2 (Ranking: [7, 6, 11, 2, 3, 8, 4, 10, 12, 5, 9, 1])\n",
            "Student 77 is assigned to Project 17 in Industry 8 (Ranking: [8, 2, 6, 5, 10, 1, 4, 9, 7, 3, 11, 12])\n",
            "Student 78 is assigned to Project 15 in Industry 1 (Ranking: [1, 4, 9, 6, 8, 10, 11, 12, 2, 7, 5, 3])\n",
            "Student 79 is assigned to Project 17 in Industry 2 (Ranking: [8, 12, 2, 1, 4, 6, 10, 3, 9, 5, 7, 11])\n",
            "Student 80 is assigned to Project 8 in Industry 3 (Ranking: [4, 2, 8, 11, 3, 12, 6, 10, 5, 9, 7, 1])\n",
            "Student 81 is assigned to Project 4 in Industry 7 (Ranking: [4, 8, 9, 3, 7, 2, 5, 6, 11, 1, 12, 10])\n",
            "Student 82 is assigned to Project 9 in Industry 1 (Ranking: [6, 9, 5, 1, 10, 12, 3, 8, 4, 11, 2, 7])\n",
            "Student 83 is assigned to Project 18 in Industry 6 (Ranking: [6, 12, 9, 10, 7, 4, 3, 2, 5, 11, 8, 1])\n",
            "Student 84 is assigned to Project 1 in Industry 1 (Ranking: [7, 1, 6, 8, 12, 4, 10, 2, 9, 11, 3, 5])\n",
            "Student 85 is assigned to Project 9 in Industry 2 (Ranking: [2, 8, 12, 9, 11, 1, 6, 10, 4, 3, 7, 5])\n",
            "Student 86 is assigned to Project 10 in Industry 2 (Ranking: [8, 5, 6, 7, 2, 9, 3, 11, 4, 12, 10, 1])\n",
            "Student 87 is assigned to Project 9 in Industry 4 (Ranking: [10, 2, 4, 5, 12, 6, 1, 8, 7, 3, 9, 11])\n",
            "Student 88 is assigned to Project 2 in Industry 1 (Ranking: [3, 5, 1, 10, 6, 7, 9, 12, 11, 2, 4, 8])\n",
            "Student 89 is assigned to Project 10 in Industry 7 (Ranking: [4, 9, 7, 3, 11, 2, 1, 5, 12, 8, 6, 10])\n",
            "Student 90 is assigned to Project 11 in Industry 10 (Ranking: [10, 3, 4, 8, 5, 12, 11, 1, 7, 2, 9, 6])\n",
            "Student 91 is assigned to Project 13 in Industry 6 (Ranking: [8, 6, 10, 5, 7, 11, 3, 4, 12, 1, 2, 9])\n",
            "Student 92 is assigned to Project 7 in Industry 2 (Ranking: [2, 4, 7, 6, 5, 9, 3, 1, 11, 12, 8, 10])\n",
            "Student 93 is assigned to Project 11 in Industry 10 (Ranking: [10, 8, 5, 4, 6, 2, 11, 7, 3, 9, 1, 12])\n",
            "Student 94 is assigned to Project 3 in Industry 12 (Ranking: [11, 12, 1, 5, 8, 10, 9, 3, 2, 7, 4, 6])\n",
            "Student 95 is assigned to Project 15 in Industry 3 (Ranking: [12, 7, 3, 4, 10, 11, 5, 8, 6, 1, 2, 9])\n",
            "Student 96 is assigned to Project 13 in Industry 10 (Ranking: [5, 6, 2, 8, 10, 9, 7, 4, 3, 1, 11, 12])\n",
            "Student 97 is assigned to Project 13 in Industry 5 (Ranking: [5, 9, 2, 8, 6, 11, 7, 3, 4, 12, 10, 1])\n",
            "Student 98 is assigned to Project 5 in Industry 1 (Ranking: [11, 4, 8, 1, 6, 5, 2, 9, 12, 3, 10, 7])\n",
            "Student 99 is assigned to Project 2 in Industry 1 (Ranking: [2, 3, 1, 10, 5, 4, 9, 6, 12, 11, 8, 7])\n",
            "Student 100 is assigned to Project 8 in Industry 6 (Ranking: [8, 6, 9, 7, 3, 4, 11, 1, 10, 12, 2, 5])\n",
            "Student 101 is assigned to Project 7 in Industry 9 (Ranking: [1, 6, 4, 8, 9, 2, 3, 12, 11, 10, 7, 5])\n",
            "Student 102 is assigned to Project 18 in Industry 4 (Ranking: [7, 5, 4, 2, 8, 1, 6, 9, 12, 10, 11, 3])\n",
            "Student 103 is assigned to Project 6 in Industry 11 (Ranking: [3, 10, 4, 2, 11, 5, 9, 6, 12, 1, 8, 7])\n",
            "Student 104 is assigned to Project 1 in Industry 3 (Ranking: [3, 12, 9, 5, 11, 1, 6, 7, 2, 10, 4, 8])\n",
            "Student 105 is assigned to Project 13 in Industry 6 (Ranking: [10, 6, 1, 3, 5, 12, 2, 4, 7, 9, 8, 11])\n",
            "Student 106 is assigned to Project 10 in Industry 6 (Ranking: [8, 6, 9, 2, 12, 5, 10, 7, 1, 3, 11, 4])\n",
            "Student 107 is assigned to Project 1 in Industry 12 (Ranking: [11, 1, 12, 8, 7, 4, 6, 10, 9, 3, 2, 5])\n",
            "Student 108 is assigned to Project 2 in Industry 12 (Ranking: [2, 6, 10, 3, 12, 8, 9, 5, 11, 7, 4, 1])\n",
            "Student 109 is assigned to Project 1 in Industry 2 (Ranking: [9, 10, 7, 2, 12, 11, 6, 5, 8, 4, 3, 1])\n",
            "Student 110 is assigned to Project 17 in Industry 7 (Ranking: [7, 6, 8, 12, 9, 11, 1, 3, 4, 2, 5, 10])\n",
            "Optimal objective value: 26.0\n",
            "\n",
            "Number of students in each project:\n",
            "Project 1: 6.0 students\n",
            "Project 2: 7.0 students\n",
            "Project 3: 6.0 students\n",
            "Project 4: 6.0 students\n",
            "Project 5: 7.0 students\n",
            "Project 6: 7.0 students\n",
            "Project 7: 7.0 students\n",
            "Project 8: 7.0 students\n",
            "Project 9: 7.0 students\n",
            "Project 10: 7.0 students\n",
            "Project 11: 5.0 students\n",
            "Project 12: 6.0 students\n",
            "Project 13: 7.0 students\n",
            "Project 14: 4.0 students\n",
            "Project 15: 6.0 students\n",
            "Project 16: 7.0 students\n",
            "Project 17: 5.0 students\n",
            "Project 18: 3.0 students\n"
          ]
        }
      ]
    }
  ]
}